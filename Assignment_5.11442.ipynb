{
 "cells": [
  {
   "cell_type": "markdown",
   "metadata": {},
   "source": [
    "# problemstatement 1.How-to-count-distance-to-the-previous-zero\n",
    "For each value, count the difference back to the previous zero (or the start of the Series,whichever is closer) create a new column 'Y' Consider a DataFrame df where there is an integer column 'X' import pandas as pd df = pd.DataFrame({'X': [7, 2, 0, 3, 4, 2, 5, 0, 3, 4]})"
   ]
  },
  {
   "cell_type": "code",
   "execution_count": 2,
   "metadata": {},
   "outputs": [
    {
     "data": {
      "text/plain": [
       "[1, 2, 0, 1, 2, 3, 4, 0, 1, 2]"
      ]
     },
     "execution_count": 2,
     "metadata": {},
     "output_type": "execute_result"
    }
   ],
   "source": [
    "import pandas as pd\n",
    "s = pd.Series([7, 2, 0, 3, 4, 2, 5, 0, 3, 4])\n",
    "(s.groupby(s.eq(0).cumsum().mask(s.eq(0))).cumcount() + 1).mask(s.eq(0), 0).tolist()\n"
   ]
  },
  {
   "cell_type": "code",
   "execution_count": 3,
   "metadata": {},
   "outputs": [],
   "source": [
    "# Create a DatetimeIndex that contains each business day of 2015 and use it to index a Series of random numbers."
   ]
  },
  {
   "cell_type": "code",
   "execution_count": 4,
   "metadata": {},
   "outputs": [
    {
     "data": {
      "text/plain": [
       "2015-01-01    0.462711\n",
       "2015-01-02    0.237748\n",
       "2015-01-05    0.778483\n",
       "2015-01-06    0.212315\n",
       "2015-01-07    0.288962\n",
       "2015-01-08    0.300998\n",
       "2015-01-09    0.008588\n",
       "2015-01-12    0.609623\n",
       "2015-01-13    0.102501\n",
       "2015-01-14    0.857623\n",
       "2015-01-15    0.588863\n",
       "2015-01-16    0.478548\n",
       "2015-01-19    0.538001\n",
       "2015-01-20    0.525450\n",
       "2015-01-21    0.097398\n",
       "2015-01-22    0.580164\n",
       "2015-01-23    0.393435\n",
       "2015-01-26    0.087564\n",
       "2015-01-27    0.882527\n",
       "2015-01-28    0.908375\n",
       "2015-01-29    0.952540\n",
       "2015-01-30    0.476682\n",
       "2015-02-02    0.553850\n",
       "2015-02-03    0.322001\n",
       "2015-02-04    0.947400\n",
       "2015-02-05    0.146277\n",
       "2015-02-06    0.090450\n",
       "2015-02-09    0.850300\n",
       "2015-02-10    0.012400\n",
       "2015-02-11    0.998642\n",
       "                ...   \n",
       "2015-11-20    0.759612\n",
       "2015-11-23    0.285126\n",
       "2015-11-24    0.621448\n",
       "2015-11-25    0.555644\n",
       "2015-11-26    0.405539\n",
       "2015-11-27    0.248939\n",
       "2015-11-30    0.071537\n",
       "2015-12-01    0.325365\n",
       "2015-12-02    0.459764\n",
       "2015-12-03    0.249304\n",
       "2015-12-04    0.635952\n",
       "2015-12-07    0.425662\n",
       "2015-12-08    0.830444\n",
       "2015-12-09    0.749030\n",
       "2015-12-10    0.737927\n",
       "2015-12-11    0.958563\n",
       "2015-12-14    0.205082\n",
       "2015-12-15    0.881627\n",
       "2015-12-16    0.105099\n",
       "2015-12-17    0.803164\n",
       "2015-12-18    0.060878\n",
       "2015-12-21    0.704641\n",
       "2015-12-22    0.172664\n",
       "2015-12-23    0.738800\n",
       "2015-12-24    0.142611\n",
       "2015-12-25    0.476927\n",
       "2015-12-28    0.452624\n",
       "2015-12-29    0.055597\n",
       "2015-12-30    0.895112\n",
       "2015-12-31    0.664086\n",
       "Freq: B, Length: 261, dtype: float64"
      ]
     },
     "execution_count": 4,
     "metadata": {},
     "output_type": "execute_result"
    }
   ],
   "source": [
    "import numpy as np\n",
    "dti = pd.date_range(start='2015-01-01', end='2015-12-31', freq='B')\n",
    "s = pd.Series(np.random.rand(len(dti)), index=dti)\n",
    "s"
   ]
  },
  {
   "cell_type": "code",
   "execution_count": 5,
   "metadata": {},
   "outputs": [
    {
     "data": {
      "text/plain": [
       "27.255348054759438"
      ]
     },
     "execution_count": 5,
     "metadata": {},
     "output_type": "execute_result"
    }
   ],
   "source": [
    "# Find the sum of the values in s for every Wednesday.\n",
    "s[dti.weekday == 2].sum()"
   ]
  },
  {
   "cell_type": "code",
   "execution_count": 6,
   "metadata": {},
   "outputs": [
    {
     "data": {
      "text/plain": [
       "2015-01-31    0.471323\n",
       "2015-02-28    0.630200\n",
       "2015-03-31    0.495966\n",
       "2015-04-30    0.456481\n",
       "2015-05-31    0.593252\n",
       "2015-06-30    0.510457\n",
       "2015-07-31    0.448044\n",
       "2015-08-31    0.483381\n",
       "2015-09-30    0.437522\n",
       "2015-10-31    0.482557\n",
       "2015-11-30    0.554002\n",
       "2015-12-31    0.510040\n",
       "Freq: M, dtype: float64"
      ]
     },
     "execution_count": 6,
     "metadata": {},
     "output_type": "execute_result"
    }
   ],
   "source": [
    "#Average For each calendar month\n",
    "#s.resample('M', how='mean')\n",
    "s.resample('M').mean()"
   ]
  },
  {
   "cell_type": "code",
   "execution_count": 7,
   "metadata": {},
   "outputs": [
    {
     "name": "stderr",
     "output_type": "stream",
     "text": [
      "/Users/harshavardhan/anaconda3/lib/python3.7/site-packages/ipykernel_launcher.py:2: FutureWarning: pd.TimeGrouper is deprecated and will be removed; Please use pd.Grouper(freq=...)\n",
      "  \n"
     ]
    },
    {
     "data": {
      "text/plain": [
       "2015-01-31   2015-01-29\n",
       "2015-05-31   2015-02-11\n",
       "2015-09-30   2015-08-19\n",
       "2016-01-31   2015-10-02\n",
       "dtype: datetime64[ns]"
      ]
     },
     "execution_count": 7,
     "metadata": {},
     "output_type": "execute_result"
    }
   ],
   "source": [
    "#For each group of four consecutive calendar months in s, find the date on which the highest value occurred.\n",
    "s.groupby(pd.TimeGrouper('4M')).idxmax()\n"
   ]
  },
  {
   "cell_type": "code",
   "execution_count": null,
   "metadata": {},
   "outputs": [],
   "source": []
  }
 ],
 "metadata": {
  "kernelspec": {
   "display_name": "Python 3",
   "language": "python",
   "name": "python3"
  },
  "language_info": {
   "codemirror_mode": {
    "name": "ipython",
    "version": 3
   },
   "file_extension": ".py",
   "mimetype": "text/x-python",
   "name": "python",
   "nbconvert_exporter": "python",
   "pygments_lexer": "ipython3",
   "version": "3.7.1"
  }
 },
 "nbformat": 4,
 "nbformat_minor": 2
}
